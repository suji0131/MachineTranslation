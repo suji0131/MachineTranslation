{
 "cells": [
  {
   "cell_type": "markdown",
   "metadata": {
    "collapsed": true
   },
   "source": [
    "## Machine Translation Project\n",
    "\n",
    "In this notebook, I built several deep neural networks that functions as part of an end-to-end machine translation pipeline. Completed pipeline will accept English text as input and return the French translation.\n",
    "\n",
    "- **Preprocess** - Converts text to sequence of integers.\n",
    "- **Models** Models which accepts a sequence of integers as input and returns a probability distribution over possible translations. \n",
    "- **Prediction** Run the model on English text.\n",
    "\n",
    "#### Models explored\n",
    "- Simple RNN\n",
    "- RNN with word embeddings\n",
    "- Bidirectional RNN\n",
    "- Bidirectional RNN with embeddings\n",
    "- **Auto Encoder-Decoder**"
   ]
  },
  {
   "cell_type": "code",
   "execution_count": 1,
   "metadata": {},
   "outputs": [],
   "source": [
    "%load_ext autoreload\n",
    "%aimport helper, tests\n",
    "%autoreload 1"
   ]
  },
  {
   "cell_type": "markdown",
   "metadata": {},
   "source": [
    "### Import necessary libraries & Verify access to the GPU"
   ]
  },
  {
   "cell_type": "code",
   "execution_count": 3,
   "metadata": {},
   "outputs": [
    {
     "name": "stdout",
     "output_type": "stream",
     "text": [
      "[name: \"/cpu:0\"\n",
      "device_type: \"CPU\"\n",
      "memory_limit: 268435456\n",
      "locality {\n",
      "}\n",
      "incarnation: 13856438438791511884\n",
      ", name: \"/gpu:0\"\n",
      "device_type: \"GPU\"\n",
      "memory_limit: 357236736\n",
      "locality {\n",
      "  bus_id: 1\n",
      "}\n",
      "incarnation: 14211666978726769005\n",
      "physical_device_desc: \"device: 0, name: Tesla K80, pci bus id: 0000:00:04.0\"\n",
      "]\n"
     ]
    }
   ],
   "source": [
    "import collections\n",
    "\n",
    "import helper\n",
    "import numpy as np\n",
    "import project_tests as tests\n",
    "\n",
    "from keras.preprocessing.text import Tokenizer\n",
    "from keras.preprocessing.sequence import pad_sequences\n",
    "from keras.models import Model\n",
    "from keras.layers import GRU, Input, Dense, TimeDistributed, Activation, RepeatVector, Bidirectional\n",
    "from keras.layers.embeddings import Embedding\n",
    "from keras.optimizers import Adam\n",
    "from keras.losses import sparse_categorical_crossentropy\n",
    "\n",
    "from tensorflow.python.client import device_lib\n",
    "print(device_lib.list_local_devices())"
   ]
  },
  {
   "cell_type": "markdown",
   "metadata": {},
   "source": [
    "## Dataset\n",
    "We begin by investigating the dataset that will be used to train and evaluate Machine Translation (MT) pipeline.  The most common datasets used for machine translation are from [WMT](http://www.statmt.org/).  However, that will take a long time to train a neural network on.  Since the purpose of this exercise is to just explore the MT models we'll be using a dataset that contains a small vocabulary. \n",
    "### Load Data\n",
    "The data is located in `data/small_vocab_en` and `data/small_vocab_fr`. The `small_vocab_en` file contains English sentences with their French translations in the `small_vocab_fr` file. Below, English and French data is loaded from these files."
   ]
  },
  {
   "cell_type": "code",
   "execution_count": 4,
   "metadata": {},
   "outputs": [
    {
     "name": "stdout",
     "output_type": "stream",
     "text": [
      "Dataset Loaded\n"
     ]
    }
   ],
   "source": [
    "# Load English data\n",
    "english_sentences = helper.load_data('data/small_vocab_en')\n",
    "# Load French data\n",
    "french_sentences = helper.load_data('data/small_vocab_fr')\n",
    "\n",
    "print('Dataset Loaded')"
   ]
  },
  {
   "cell_type": "markdown",
   "metadata": {},
   "source": [
    "### Files\n",
    "Each line in `small_vocab_en` contains an English sentence with the respective translation in each line of `small_vocab_fr`.  Priniting the first two lines from each file."
   ]
  },
  {
   "cell_type": "code",
   "execution_count": 5,
   "metadata": {},
   "outputs": [
    {
     "name": "stdout",
     "output_type": "stream",
     "text": [
      "small_vocab_en Line 1:  new jersey is sometimes quiet during autumn , and it is snowy in april .\n",
      "small_vocab_fr Line 1:  new jersey est parfois calme pendant l' automne , et il est neigeux en avril .\n",
      "small_vocab_en Line 2:  the united states is usually chilly during july , and it is usually freezing in november .\n",
      "small_vocab_fr Line 2:  les états-unis est généralement froid en juillet , et il gèle habituellement en novembre .\n"
     ]
    }
   ],
   "source": [
    "for sample_i in range(2):\n",
    "    print('small_vocab_en Line {}:  {}'.format(sample_i + 1, english_sentences[sample_i]))\n",
    "    print('small_vocab_fr Line {}:  {}'.format(sample_i + 1, french_sentences[sample_i]))"
   ]
  },
  {
   "cell_type": "markdown",
   "metadata": {},
   "source": [
    "From looking at the sentences, you can see they have been preprocessed already.  The puncuations have been delimited using spaces. All the text have been converted to lowercase.  But the text requires more preprocessing.\n",
    "### Vocabulary\n",
    "The complexity of the problem is determined by the complexity of the vocabulary.  A more complex vocabulary is a more complex problem.  Let's look at the complexity of the dataset we'll be working with."
   ]
  },
  {
   "cell_type": "code",
   "execution_count": 6,
   "metadata": {},
   "outputs": [
    {
     "name": "stdout",
     "output_type": "stream",
     "text": [
      "1823250 English words.\n",
      "227 unique English words.\n",
      "10 Most common words in the English dataset:\n",
      "\"is\" \",\" \".\" \"in\" \"it\" \"during\" \"the\" \"but\" \"and\" \"sometimes\"\n",
      "\n",
      "1961295 French words.\n",
      "355 unique French words.\n",
      "10 Most common words in the French dataset:\n",
      "\"est\" \".\" \",\" \"en\" \"il\" \"les\" \"mais\" \"et\" \"la\" \"parfois\"\n"
     ]
    }
   ],
   "source": [
    "english_words_counter = collections.Counter([word for sentence in english_sentences for word in sentence.split()])\n",
    "french_words_counter = collections.Counter([word for sentence in french_sentences for word in sentence.split()])\n",
    "\n",
    "print('{} English words.'.format(len([word for sentence in english_sentences for word in sentence.split()])))\n",
    "print('{} unique English words.'.format(len(english_words_counter)))\n",
    "print('10 Most common words in the English dataset:')\n",
    "print('\"' + '\" \"'.join(list(zip(*english_words_counter.most_common(10)))[0]) + '\"')\n",
    "print()\n",
    "print('{} French words.'.format(len([word for sentence in french_sentences for word in sentence.split()])))\n",
    "print('{} unique French words.'.format(len(french_words_counter)))\n",
    "print('10 Most common words in the French dataset:')\n",
    "print('\"' + '\" \"'.join(list(zip(*french_words_counter.most_common(10)))[0]) + '\"')"
   ]
  },
  {
   "cell_type": "markdown",
   "metadata": {},
   "source": [
    "## Preprocess\n",
    "For this project, we won't be using text data as input to model. Instead, we'll convert the text into sequences of integers using the following preprocess methods:\n",
    "1. Tokenize the words into ids\n",
    "2. Add padding to make all the sequences the same length.\n",
    "\n",
    "### Tokenize\n",
    "For a neural network to predict on text data, it first has to be turned into data it can understand. Text data like \"dog\" is a sequence of ASCII character encodings.  Since a neural network is a series of multiplication and addition operations, the input data needs to be number(s).\n",
    "\n",
    "We can turn each character into a number or each word into a number.  These are called character and word ids, respectively.  Character ids are used for character level models that generate text predictions for each character.  A word level model uses word ids that generate text predictions for each word.  Word level models tend to learn better, since they are lower in complexity, so we'll use those.\n",
    "\n",
    "We will be using Keras's [`Tokenizer`](https://keras.io/preprocessing/text/#tokenizer) function to tokenize `english_sentences` and `french_sentences` in the cell below."
   ]
  },
  {
   "cell_type": "code",
   "execution_count": 7,
   "metadata": {},
   "outputs": [
    {
     "name": "stdout",
     "output_type": "stream",
     "text": [
      "{'the': 1, 'quick': 2, 'a': 3, 'brown': 4, 'fox': 5, 'jumps': 6, 'over': 7, 'lazy': 8, 'dog': 9, 'by': 10, 'jove': 11, 'my': 12, 'study': 13, 'of': 14, 'lexicography': 15, 'won': 16, 'prize': 17, 'this': 18, 'is': 19, 'short': 20, 'sentence': 21}\n",
      "\n",
      "Sequence 1 in x\n",
      "  Input:  The quick brown fox jumps over the lazy dog .\n",
      "  Output: [1, 2, 4, 5, 6, 7, 1, 8, 9]\n",
      "Sequence 2 in x\n",
      "  Input:  By Jove , my quick study of lexicography won a prize .\n",
      "  Output: [10, 11, 12, 2, 13, 14, 15, 16, 3, 17]\n",
      "Sequence 3 in x\n",
      "  Input:  This is a short sentence .\n",
      "  Output: [18, 19, 3, 20, 21]\n"
     ]
    }
   ],
   "source": [
    "def tokenize(x):\n",
    "    \"\"\"\n",
    "    Tokenize x\n",
    "    :param x: List of sentences/strings to be tokenized\n",
    "    :return: Tuple of (tokenized x data, tokenizer used to tokenize x)\n",
    "    \"\"\"\n",
    "    # TODO: Implement\n",
    "    \"\"\"\n",
    "    Tokenizer class allows to vectorize a text corpus, by turning each text into either a sequence of integers \n",
    "    (each integer being the index of a token in a dictionary) \n",
    "    or into a vector where the coefficient for each token could be binary, based on word count, based on tf-idf...\n",
    "    \n",
    "    .fit_on_texts(corpus) to fit the model on corpus\n",
    "    .texts_to_sequences(x) converts list of txt to list of lists containing tokens\n",
    "    \"\"\"\n",
    "    x_tk = Tokenizer() # keras model\n",
    "    x_tk.fit_on_texts(x) # fit model on corpus\n",
    "\n",
    "    return x_tk.texts_to_sequences(x), x_tk # read more about this\n",
    "\n",
    "tests.test_tokenize(tokenize)\n",
    "\n",
    "# Tokenize Example output\n",
    "text_sentences = [\n",
    "    'The quick brown fox jumps over the lazy dog .',\n",
    "    'By Jove , my quick study of lexicography won a prize .',\n",
    "    'This is a short sentence .']\n",
    "text_tokenized, text_tokenizer = tokenize(text_sentences)\n",
    "print(text_tokenizer.word_index)\n",
    "print()\n",
    "for sample_i, (sent, token_sent) in enumerate(zip(text_sentences, text_tokenized)):\n",
    "    print('Sequence {} in x'.format(sample_i + 1))\n",
    "    print('  Input:  {}'.format(sent))\n",
    "    print('  Output: {}'.format(token_sent))"
   ]
  },
  {
   "cell_type": "markdown",
   "metadata": {},
   "source": [
    "### Padding\n",
    "When batching the sequence of word ids together, each sequence needs to be the same length.  Since sentences are dynamic in length, we can add padding to the end of the sequences to make them the same length.\n",
    "\n",
    "Below, we are making sure all the English sequences have the same length and all the French sequences have the same length by adding padding to the **end** of each sequence using Keras's [`pad_sequences`](https://keras.io/preprocessing/sequence/#pad_sequences) function."
   ]
  },
  {
   "cell_type": "code",
   "execution_count": 8,
   "metadata": {},
   "outputs": [
    {
     "name": "stdout",
     "output_type": "stream",
     "text": [
      "Sequence 1 in x\n",
      "  Input:  [1 2 4 5 6 7 1 8 9]\n",
      "  Output: [1 2 4 5 6 7 1 8 9 0]\n",
      "Sequence 2 in x\n",
      "  Input:  [10 11 12  2 13 14 15 16  3 17]\n",
      "  Output: [10 11 12  2 13 14 15 16  3 17]\n",
      "Sequence 3 in x\n",
      "  Input:  [18 19  3 20 21]\n",
      "  Output: [18 19  3 20 21  0  0  0  0  0]\n"
     ]
    }
   ],
   "source": [
    "def pad(x, length=None):\n",
    "    \"\"\"\n",
    "    Pad x\n",
    "    :param x: List of sequences.\n",
    "    :param length: Length to pad the sequence to.  If None, use length of longest sequence in x.\n",
    "    :return: Padded numpy array of sequences\n",
    "    \"\"\"\n",
    "    if length is None:\n",
    "        length = max([len(sen) for sen in x])\n",
    "    \n",
    "    return pad_sequences(x, maxlen=length, padding='post') # keras padding function\n",
    "tests.test_pad(pad)\n",
    "\n",
    "# Pad Tokenized output\n",
    "test_pad = pad(text_tokenized)\n",
    "for sample_i, (token_sent, pad_sent) in enumerate(zip(text_tokenized, test_pad)):\n",
    "    print('Sequence {} in x'.format(sample_i + 1))\n",
    "    print('  Input:  {}'.format(np.array(token_sent)))\n",
    "    print('  Output: {}'.format(pad_sent))"
   ]
  },
  {
   "cell_type": "markdown",
   "metadata": {},
   "source": [
    "### Preprocess Pipeline\n",
    "It tokenizes and pads the sentences."
   ]
  },
  {
   "cell_type": "code",
   "execution_count": 9,
   "metadata": {},
   "outputs": [
    {
     "name": "stdout",
     "output_type": "stream",
     "text": [
      "Data Preprocessed\n",
      "Max English sentence length: 15\n",
      "Max French sentence length: 21\n",
      "English vocabulary size: 199\n",
      "French vocabulary size: 344\n"
     ]
    }
   ],
   "source": [
    "def preprocess(x, y):\n",
    "    \"\"\"\n",
    "    Preprocess x and y\n",
    "    :param x: Feature List of sentences\n",
    "    :param y: Label List of sentences\n",
    "    :return: Tuple of (Preprocessed x, Preprocessed y, x tokenizer, y tokenizer)\n",
    "    \"\"\"\n",
    "    preprocess_x, x_tk = tokenize(x)\n",
    "    preprocess_y, y_tk = tokenize(y)\n",
    "\n",
    "    preprocess_x = pad(preprocess_x)\n",
    "    preprocess_y = pad(preprocess_y)\n",
    "\n",
    "    # Keras's sparse_categorical_crossentropy function requires the labels to be in 3 dimensions\n",
    "    preprocess_y = preprocess_y.reshape(*preprocess_y.shape, 1)\n",
    "\n",
    "    return preprocess_x, preprocess_y, x_tk, y_tk\n",
    "\n",
    "preproc_english_sentences, preproc_french_sentences, english_tokenizer, french_tokenizer =\\\n",
    "    preprocess(english_sentences, french_sentences)\n",
    "    \n",
    "max_english_sequence_length = preproc_english_sentences.shape[1]\n",
    "max_french_sequence_length = preproc_french_sentences.shape[1]\n",
    "english_vocab_size = len(english_tokenizer.word_index)\n",
    "french_vocab_size = len(french_tokenizer.word_index)\n",
    "\n",
    "print('Data Preprocessed')\n",
    "print(\"Max English sentence length:\", max_english_sequence_length)\n",
    "print(\"Max French sentence length:\", max_french_sequence_length)\n",
    "print(\"English vocabulary size:\", english_vocab_size)\n",
    "print(\"French vocabulary size:\", french_vocab_size)"
   ]
  },
  {
   "cell_type": "markdown",
   "metadata": {},
   "source": [
    "## Models\n",
    "Initially, I trained four relatively simple architectures.\n",
    "- Model 1 is a simple RNN\n",
    "- Model 2 is a RNN with Embedding\n",
    "- Model 3 is a Bidirectional RNN\n",
    "- Model 4 is an optional Encoder-Decoder RNN\n",
    "\n",
    "After experimenting with these four simple architectures, I constructed a deeper architecture that is designed to outperform all four models.\n",
    "### Ids Back to Text\n",
    "The neural network will be translating the input to words ids, which isn't the final form we want.  We want the French translation.  The function `logits_to_text` will bridge the gap between the logits from the neural network to the French translation.  We'll be using this function to better understand the output of the neural network to debug and validate."
   ]
  },
  {
   "cell_type": "code",
   "execution_count": 10,
   "metadata": {},
   "outputs": [
    {
     "name": "stdout",
     "output_type": "stream",
     "text": [
      "`logits_to_text` function loaded.\n"
     ]
    }
   ],
   "source": [
    "def logits_to_text(logits, tokenizer):\n",
    "    \"\"\"\n",
    "    Turn logits from a neural network into text using the tokenizer\n",
    "    :param logits: Logits from a neural network\n",
    "    :param tokenizer: Keras Tokenizer fit on the labels\n",
    "    :return: String that represents the text of the logits\n",
    "    \"\"\"\n",
    "    index_to_words = {id: word for word, id in tokenizer.word_index.items()}\n",
    "    index_to_words[0] = '<PAD>'\n",
    "\n",
    "    return ' '.join([index_to_words[prediction] for prediction in np.argmax(logits, 1)])\n",
    "\n",
    "print('`logits_to_text` function loaded.')"
   ]
  },
  {
   "cell_type": "markdown",
   "metadata": {},
   "source": [
    "### Model 1: RNN\n",
    "![RNN](images/rnn.png)\n",
    "A basic RNN model is a good baseline for sequence data.  In this model, we train a RNN that translates English to French."
   ]
  },
  {
   "cell_type": "code",
   "execution_count": 11,
   "metadata": {},
   "outputs": [
    {
     "name": "stdout",
     "output_type": "stream",
     "text": [
      "Train on 110288 samples, validate on 27573 samples\n",
      "Epoch 1/10\n",
      "110288/110288 [==============================] - 9s 82us/step - loss: 3.2104 - acc: 0.4389 - val_loss: nan - val_acc: 0.4743\n",
      "Epoch 2/10\n",
      "110288/110288 [==============================] - 7s 64us/step - loss: 2.2029 - acc: 0.5013 - val_loss: nan - val_acc: 0.5186\n",
      "Epoch 3/10\n",
      "110288/110288 [==============================] - 7s 64us/step - loss: 1.8502 - acc: 0.5447 - val_loss: nan - val_acc: 0.5693\n",
      "Epoch 4/10\n",
      "110288/110288 [==============================] - 7s 64us/step - loss: 1.6132 - acc: 0.5819 - val_loss: nan - val_acc: 0.5904\n",
      "Epoch 5/10\n",
      "110288/110288 [==============================] - 7s 64us/step - loss: 1.4780 - acc: 0.6019 - val_loss: nan - val_acc: 0.6161\n",
      "Epoch 6/10\n",
      "110288/110288 [==============================] - 7s 64us/step - loss: 1.3912 - acc: 0.6149 - val_loss: nan - val_acc: 0.6199\n",
      "Epoch 7/10\n",
      "110288/110288 [==============================] - 7s 64us/step - loss: 1.3303 - acc: 0.6285 - val_loss: nan - val_acc: 0.6334\n",
      "Epoch 8/10\n",
      "110288/110288 [==============================] - 7s 64us/step - loss: 1.2842 - acc: 0.6383 - val_loss: nan - val_acc: 0.6394\n",
      "Epoch 9/10\n",
      "110288/110288 [==============================] - 7s 63us/step - loss: 1.2477 - acc: 0.6458 - val_loss: nan - val_acc: 0.6479\n",
      "Epoch 10/10\n",
      "110288/110288 [==============================] - 7s 64us/step - loss: 1.2176 - acc: 0.6501 - val_loss: nan - val_acc: 0.6511\n",
      "new jersey est parfois humide en l' et il est est en en <PAD> <PAD> <PAD> <PAD> <PAD> <PAD> <PAD> <PAD>\n"
     ]
    }
   ],
   "source": [
    "def simple_model(input_shape, output_sequence_length, english_vocab_size, french_vocab_size):\n",
    "    \"\"\"\n",
    "    Build and train a basic RNN on x and y\n",
    "    :param input_shape: Tuple of input shape\n",
    "    :param output_sequence_length: Length of output sequence\n",
    "    :param english_vocab_size: Number of unique English words in the dataset\n",
    "    :param french_vocab_size: Number of unique French words in the dataset\n",
    "    :return: Keras model built, but not trained\n",
    "    \"\"\"\n",
    "    learning_rate = 1e-3\n",
    "    \n",
    "    # TODO: Build the layers\n",
    "    inputs = Input(shape=input_shape[1:])\n",
    "    rnn = GRU(64, return_sequences=True)(inputs)\n",
    "    x = Dense(128, activation='relu')(rnn)\n",
    "    logits = TimeDistributed(Dense(french_vocab_size, activation='softmax'))(x)\n",
    "    \n",
    "    model = Model(inputs=inputs, outputs=logits)\n",
    "    model.compile(loss=sparse_categorical_crossentropy,\n",
    "                  optimizer=Adam(learning_rate),\n",
    "                  metrics=['accuracy'])\n",
    "    return model\n",
    "tests.test_simple_model(simple_model)\n",
    "\n",
    "# Reshaping the input to work with a basic RNN\n",
    "tmp_x = pad(preproc_english_sentences, max_french_sequence_length)\n",
    "tmp_x = tmp_x.reshape((-1, preproc_french_sentences.shape[-2], 1))\n",
    "\n",
    "# Train the neural network\n",
    "simple_rnn_model = simple_model(\n",
    "    tmp_x.shape,\n",
    "    max_french_sequence_length,\n",
    "    english_vocab_size,\n",
    "    french_vocab_size)\n",
    "simple_rnn_model.fit(tmp_x, preproc_french_sentences, batch_size=1024, epochs=10, validation_split=0.2)\n",
    "\n",
    "# Print prediction(s)\n",
    "print(logits_to_text(simple_rnn_model.predict(tmp_x[:1])[0], french_tokenizer))"
   ]
  },
  {
   "cell_type": "markdown",
   "metadata": {},
   "source": [
    "### Model 2: Embedding\n",
    "![RNN](images/embedding.png)\n",
    "There's a better representation of a word ids. This is called word embeddings.  An embedding is a vector representation of the word that is close to similar words in n-dimensional space, where the n represents the size of the embedding vectors.\n",
    "\n",
    "In this model, I trained a RNN model using embedding."
   ]
  },
  {
   "cell_type": "code",
   "execution_count": 12,
   "metadata": {},
   "outputs": [
    {
     "name": "stdout",
     "output_type": "stream",
     "text": [
      "(137861, 21)\n",
      "Train on 110288 samples, validate on 27573 samples\n",
      "Epoch 1/10\n",
      "110288/110288 [==============================] - 8s 76us/step - loss: 3.5052 - acc: 0.3979 - val_loss: nan - val_acc: 0.4296\n",
      "Epoch 2/10\n",
      "110288/110288 [==============================] - 8s 72us/step - loss: 2.2369 - acc: 0.4986 - val_loss: nan - val_acc: 0.5610\n",
      "Epoch 3/10\n",
      "110288/110288 [==============================] - 8s 71us/step - loss: 1.4434 - acc: 0.6353 - val_loss: nan - val_acc: 0.7017\n",
      "Epoch 4/10\n",
      "110288/110288 [==============================] - 8s 71us/step - loss: 1.0308 - acc: 0.7344 - val_loss: nan - val_acc: 0.7570\n",
      "Epoch 5/10\n",
      "110288/110288 [==============================] - 8s 73us/step - loss: 0.8535 - acc: 0.7681 - val_loss: nan - val_acc: 0.7805\n",
      "Epoch 6/10\n",
      "110288/110288 [==============================] - 8s 73us/step - loss: 0.7443 - acc: 0.7891 - val_loss: nan - val_acc: 0.7970\n",
      "Epoch 7/10\n",
      "110288/110288 [==============================] - 8s 72us/step - loss: 0.6638 - acc: 0.8072 - val_loss: nan - val_acc: 0.8174\n",
      "Epoch 8/10\n",
      "110288/110288 [==============================] - 8s 72us/step - loss: 0.5970 - acc: 0.8228 - val_loss: nan - val_acc: 0.8309\n",
      "Epoch 9/10\n",
      "110288/110288 [==============================] - 8s 72us/step - loss: 0.5440 - acc: 0.8351 - val_loss: nan - val_acc: 0.8421\n",
      "Epoch 10/10\n",
      "110288/110288 [==============================] - 8s 72us/step - loss: 0.5037 - acc: 0.8455 - val_loss: nan - val_acc: 0.8508\n",
      "new jersey est parfois calme en l'automne et il est est est avril avril avril <PAD> <PAD> <PAD> <PAD> <PAD> <PAD>\n"
     ]
    }
   ],
   "source": [
    "def embed_model(input_shape, output_sequence_length, english_vocab_size, french_vocab_size):\n",
    "    \"\"\"\n",
    "    Build and train a RNN model using word embedding on x and y\n",
    "    :param input_shape: Tuple of input shape\n",
    "    :param output_sequence_length: Length of output sequence\n",
    "    :param english_vocab_size: Number of unique English words in the dataset\n",
    "    :param french_vocab_size: Number of unique French words in the dataset\n",
    "    :return: Keras model built, but not trained\n",
    "    \"\"\"\n",
    "    learning_rate = 1e-3\n",
    "    \n",
    "    # TODO: Build the layers\n",
    "    #print(input_shape)\n",
    "    inputs = Input(shape=input_shape[1:])\n",
    "    embeds = Embedding(output_dim=51, input_dim=english_vocab_size, input_length=input_shape[1])(inputs)\n",
    "    rnn = GRU(64, return_sequences=True)(embeds)\n",
    "    x = Dense(128, activation='relu')(rnn)\n",
    "    logits = TimeDistributed(Dense(french_vocab_size, activation='softmax'))(x)\n",
    "    \n",
    "    model = Model(inputs=inputs, outputs=logits)\n",
    "    model.compile(loss=sparse_categorical_crossentropy,\n",
    "                  optimizer=Adam(learning_rate),\n",
    "                  metrics=['accuracy'])\n",
    "    return model\n",
    "\n",
    "tests.test_embed_model(embed_model)\n",
    "\n",
    "# no need to reshape, we need to send it as a two dimensional array\n",
    "tmp_x = pad(preproc_english_sentences, max_french_sequence_length)\n",
    "print(tmp_x.shape)\n",
    "\n",
    "# Train the neural network\n",
    "embed_rnn_model = embed_model(\n",
    "    tmp_x.shape,\n",
    "    max_french_sequence_length,\n",
    "    english_vocab_size,\n",
    "    french_vocab_size)\n",
    "embed_rnn_model.fit(tmp_x, preproc_french_sentences, batch_size=1024, epochs=10, validation_split=0.2)\n",
    "\n",
    "# Print prediction(s)\n",
    "print(logits_to_text(embed_rnn_model.predict(tmp_x[:1])[0], french_tokenizer))"
   ]
  },
  {
   "cell_type": "markdown",
   "metadata": {},
   "source": [
    "### Model 3: Bidirectional RNNs\n",
    "![RNN](images/bidirectional.png)\n",
    "One restriction of a RNN is that it can't see the future input, only the past.  This is where bidirectional recurrent neural networks come in.  They are able to see the future data."
   ]
  },
  {
   "cell_type": "code",
   "execution_count": 13,
   "metadata": {},
   "outputs": [
    {
     "name": "stdout",
     "output_type": "stream",
     "text": [
      "Train on 110288 samples, validate on 27573 samples\n",
      "Epoch 1/10\n",
      "110288/110288 [==============================] - 11s 100us/step - loss: 2.9867 - acc: 0.4820 - val_loss: nan - val_acc: 0.5616\n",
      "Epoch 2/10\n",
      "110288/110288 [==============================] - 10s 94us/step - loss: 1.7264 - acc: 0.5825 - val_loss: nan - val_acc: 0.5963\n",
      "Epoch 3/10\n",
      "110288/110288 [==============================] - 11s 97us/step - loss: 1.4768 - acc: 0.6103 - val_loss: nan - val_acc: 0.6233\n",
      "Epoch 4/10\n",
      "110288/110288 [==============================] - 11s 96us/step - loss: 1.3516 - acc: 0.6315 - val_loss: nan - val_acc: 0.6390\n",
      "Epoch 5/10\n",
      "110288/110288 [==============================] - 11s 96us/step - loss: 1.2612 - acc: 0.6453 - val_loss: nan - val_acc: 0.6509\n",
      "Epoch 6/10\n",
      "110288/110288 [==============================] - 11s 97us/step - loss: 1.1990 - acc: 0.6564 - val_loss: nan - val_acc: 0.6604\n",
      "Epoch 7/10\n",
      "110288/110288 [==============================] - 11s 96us/step - loss: 1.1528 - acc: 0.6638 - val_loss: nan - val_acc: 0.6667\n",
      "Epoch 8/10\n",
      "110288/110288 [==============================] - 10s 95us/step - loss: 1.1171 - acc: 0.6705 - val_loss: nan - val_acc: 0.6726\n",
      "Epoch 9/10\n",
      "110288/110288 [==============================] - 10s 95us/step - loss: 1.0893 - acc: 0.6744 - val_loss: nan - val_acc: 0.6756\n",
      "Epoch 10/10\n",
      "110288/110288 [==============================] - 11s 96us/step - loss: 1.0669 - acc: 0.6780 - val_loss: nan - val_acc: 0.6805\n",
      "new jersey est parfois calme en mois et il est est en en <PAD> <PAD> <PAD> <PAD> <PAD> <PAD> <PAD> <PAD>\n"
     ]
    }
   ],
   "source": [
    "def bd_model(input_shape, output_sequence_length, english_vocab_size, french_vocab_size):\n",
    "    \"\"\"\n",
    "    Build and train a bidirectional RNN model on x and y\n",
    "    :param input_shape: Tuple of input shape\n",
    "    :param output_sequence_length: Length of output sequence\n",
    "    :param english_vocab_size: Number of unique English words in the dataset\n",
    "    :param french_vocab_size: Number of unique French words in the dataset\n",
    "    :return: Keras model built, but not trained\n",
    "    \"\"\"\n",
    "    learning_rate = 1e-3\n",
    "    \n",
    "    inputs = Input(shape=input_shape[1:])\n",
    "    #embeds = Embedding(output_dim=51, input_dim=english_vocab_size, input_length=input_shape[1])(inputs)\n",
    "    rnn = Bidirectional(GRU(64, return_sequences=True))(inputs)\n",
    "    x = Dense(128, activation='relu')(rnn)\n",
    "    logits = TimeDistributed(Dense(french_vocab_size, activation='softmax'))(x)\n",
    "    model = Model(inputs=inputs, outputs=logits)\n",
    "    model.compile(loss=sparse_categorical_crossentropy,\n",
    "                  optimizer=Adam(learning_rate),\n",
    "                  metrics=['accuracy'])\n",
    "    return model\n",
    "tests.test_bd_model(bd_model)\n",
    "\n",
    "\n",
    "# need to reshape, we need to send it as a 3 dimensional array\n",
    "tmp_x = pad(preproc_english_sentences, max_french_sequence_length)\n",
    "tmp_x = tmp_x.reshape((-1, preproc_french_sentences.shape[-2], 1))\n",
    "\n",
    "# Train the neural network\n",
    "bd_rnn_model = bd_model(\n",
    "    tmp_x.shape,\n",
    "    max_french_sequence_length,\n",
    "    english_vocab_size,\n",
    "    french_vocab_size)\n",
    "bd_rnn_model.fit(tmp_x, preproc_french_sentences, batch_size=1024, epochs=10, validation_split=0.2)\n",
    "\n",
    "# Print prediction(s)\n",
    "print(logits_to_text(bd_rnn_model.predict(tmp_x[:1])[0], french_tokenizer))"
   ]
  },
  {
   "cell_type": "markdown",
   "metadata": {},
   "source": [
    "### Model 4: Encoder-Decoder \n",
    "Time to look at encoder-decoder models.  This model is made up of an encoder and decoder. The encoder creates a matrix representation of the sentence.  The decoder takes this matrix as input and predicts the translation as output."
   ]
  },
  {
   "cell_type": "code",
   "execution_count": 14,
   "metadata": {},
   "outputs": [
    {
     "name": "stdout",
     "output_type": "stream",
     "text": [
      "(137861, 21)\n",
      "(137861, 22)\n",
      "Train on 110288 samples, validate on 27573 samples\n",
      "Epoch 1/10\n",
      "110288/110288 [==============================] - 13s 119us/step - loss: 3.3393 - acc: 0.4507 - val_loss: nan - val_acc: 0.4863\n",
      "Epoch 2/10\n",
      "110288/110288 [==============================] - 12s 113us/step - loss: 1.8632 - acc: 0.5513 - val_loss: nan - val_acc: 0.6454\n",
      "Epoch 3/10\n",
      "110288/110288 [==============================] - 13s 114us/step - loss: 1.0723 - acc: 0.6975 - val_loss: nan - val_acc: 0.7224\n",
      "Epoch 4/10\n",
      "110288/110288 [==============================] - 12s 113us/step - loss: 0.8265 - acc: 0.7387 - val_loss: nan - val_acc: 0.7483\n",
      "Epoch 5/10\n",
      "110288/110288 [==============================] - 13s 113us/step - loss: 0.7306 - acc: 0.7559 - val_loss: nan - val_acc: 0.7601\n",
      "Epoch 6/10\n",
      "110288/110288 [==============================] - 13s 114us/step - loss: 0.6766 - acc: 0.7673 - val_loss: nan - val_acc: 0.7711\n",
      "Epoch 7/10\n",
      "110288/110288 [==============================] - 13s 114us/step - loss: 0.6408 - acc: 0.7768 - val_loss: nan - val_acc: 0.7816\n",
      "Epoch 8/10\n",
      "110288/110288 [==============================] - 12s 113us/step - loss: 0.6122 - acc: 0.7853 - val_loss: nan - val_acc: 0.7893\n",
      "Epoch 9/10\n",
      "110288/110288 [==============================] - 13s 113us/step - loss: 0.5873 - acc: 0.7936 - val_loss: nan - val_acc: 0.7970\n",
      "Epoch 10/10\n",
      "110288/110288 [==============================] - 13s 114us/step - loss: 0.5701 - acc: 0.7989 - val_loss: nan - val_acc: 0.8031\n"
     ]
    },
    {
     "data": {
      "text/plain": [
       "<keras.callbacks.History at 0x7f80d964be48>"
      ]
     },
     "execution_count": 14,
     "metadata": {},
     "output_type": "execute_result"
    }
   ],
   "source": [
    "def enc_dec_model(enc_input_shape, dec_input_shape, output_sequence_length, english_vocab_size, french_vocab_size):\n",
    "    \"\"\"\n",
    "    Build and train a RNN model using word embedding on x and y\n",
    "    :param input_shape: Tuple of input shape\n",
    "    :param output_sequence_length: Length of output sequence\n",
    "    :param english_vocab_size: Number of unique English words in the dataset\n",
    "    :param french_vocab_size: Number of unique French words in the dataset\n",
    "    :return: Keras model built, but not trained\n",
    "    \"\"\"\n",
    "    learning_rate = 1e-3\n",
    "    \n",
    "    # TODO: Build the layers\n",
    "    #print(input_shape)\n",
    "    enc_inputs = Input(shape=enc_input_shape[1:])\n",
    "    enc_embeds = Embedding(output_dim=51, input_dim=english_vocab_size, input_length=enc_input_shape[1])(enc_inputs)\n",
    "    enc_outputs, state_h = GRU(64, return_sequences=True, return_state=True)(enc_embeds)\n",
    "    \n",
    "    dec_inputs = Input(shape=dec_input_shape[1:])\n",
    "    # input_dim, french_vocab_size + start tag\n",
    "    dec_embeds = Embedding(output_dim=51, input_dim=french_vocab_size+1, input_length=dec_input_shape[1])(dec_inputs)\n",
    "    dec_outputs = GRU(64, return_sequences=True)(dec_embeds, initial_state=state_h)\n",
    "    \n",
    "    x = Dense(128, activation='relu')(dec_outputs)\n",
    "    logits = TimeDistributed(Dense(french_vocab_size, activation='softmax'))(x)\n",
    "    \n",
    "    model = Model(inputs=[enc_inputs, dec_inputs], outputs=logits)\n",
    "    model.compile(loss=sparse_categorical_crossentropy,\n",
    "                  optimizer=Adam(learning_rate),\n",
    "                  metrics=['accuracy'])\n",
    "    return model\n",
    "\n",
    "# encoder input\n",
    "# no need to reshape, we need to send it as a two dimensional array\n",
    "enc_x = pad(preproc_english_sentences, max_french_sequence_length)\n",
    "print(enc_x.shape)\n",
    "\n",
    "# decoder input\n",
    "# no need to reshape, we need to send it as a two dimensional array\n",
    "# covert 3d to 2d array\n",
    "preproc_french_sentences_2d = np.squeeze(preproc_french_sentences, axis=2)\n",
    "# add start tag to begining of every french sentences\n",
    "strt_tag_val = 345\n",
    "preproc_french_sentences_2d_strt = np.insert(preproc_french_sentences_2d, 0, strt_tag_val, axis=1)\n",
    "dec_x = pad(preproc_french_sentences_2d_strt, max_french_sequence_length+1)\n",
    "print(dec_x.shape)\n",
    "\n",
    "# add 0 at the last position of array\n",
    "dec_y = np.insert(preproc_french_sentences, -1, 0, axis=1)\n",
    "\n",
    "# Train the neural network\n",
    "encdec_rnn_model = enc_dec_model(\n",
    "    enc_x.shape, dec_x.shape,\n",
    "    max_french_sequence_length,\n",
    "    english_vocab_size,\n",
    "    french_vocab_size)\n",
    "encdec_rnn_model.fit([enc_x, dec_x], dec_y, batch_size=1024, epochs=10, validation_split=0.2)"
   ]
  },
  {
   "cell_type": "code",
   "execution_count": null,
   "metadata": {},
   "outputs": [],
   "source": [
    "# create a zero matrix just like decoder input \n",
    "dec_x_pred = np.zeros_like(dec_x)\n",
    "# add starting start tag to first element of each sentences\n",
    "dec_x_pred[:, 0] = 345\n",
    "for i in range(1,22):\n",
    "    print(i)\n",
    "    # get prediction for 1st word and then add it to dec_x_pred matrix\n",
    "    dec_x_pred[:, i] = np.argmax(encdec_rnn_model.predict([enc_x, dec_x_pred]), axis=2)[:, i-1]"
   ]
  },
  {
   "cell_type": "code",
   "execution_count": null,
   "metadata": {},
   "outputs": [],
   "source": [
    "def enc_dec_to_text(enc_dec_output, tokenizer):\n",
    "    \"\"\"\n",
    "    Turn encoder decoder final output into text using the tokenizer\n",
    "    enc_dec_out: output of encoder and decoder\n",
    "    tokenizer: language tokenizer\n",
    "    \"\"\"\n",
    "    \n",
    "    print('converting integers to words......')\n",
    "    index_to_words = {id: word for word, id in tokenizer.word_index.items()}\n",
    "    index_to_words[0] = '<PAD>'\n",
    "    index_to_words[345] = '<start>' \n",
    "\n",
    "    return np.vectorize(index_to_words.get)(enc_dec_output)"
   ]
  },
  {
   "cell_type": "markdown",
   "metadata": {},
   "source": [
    "### Model 5: Custom\n",
    "A bidirectional rnn with embedding vector model."
   ]
  },
  {
   "cell_type": "code",
   "execution_count": 52,
   "metadata": {},
   "outputs": [
    {
     "name": "stdout",
     "output_type": "stream",
     "text": [
      "(137861, 21)\n",
      "Train on 110288 samples, validate on 27573 samples\n",
      "Epoch 1/60\n",
      "110288/110288 [==============================] - 14s 123us/step - loss: 3.2989 - acc: 0.4431 - val_loss: nan - val_acc: 0.4953\n",
      "Epoch 2/60\n",
      "110288/110288 [==============================] - 12s 111us/step - loss: 2.0400 - acc: 0.5408 - val_loss: nan - val_acc: 0.6182\n",
      "Epoch 3/60\n",
      "110288/110288 [==============================] - 12s 111us/step - loss: 1.2738 - acc: 0.6789 - val_loss: nan - val_acc: 0.7362\n",
      "Epoch 4/60\n",
      "110288/110288 [==============================] - 12s 111us/step - loss: 0.9416 - acc: 0.7592 - val_loss: nan - val_acc: 0.7790\n",
      "Epoch 5/60\n",
      "110288/110288 [==============================] - 12s 111us/step - loss: 0.7710 - acc: 0.7918 - val_loss: nan - val_acc: 0.8035\n",
      "Epoch 6/60\n",
      "110288/110288 [==============================] - 12s 111us/step - loss: 0.6626 - acc: 0.8135 - val_loss: nan - val_acc: 0.8231\n",
      "Epoch 7/60\n",
      "110288/110288 [==============================] - 12s 111us/step - loss: 0.5838 - acc: 0.8294 - val_loss: nan - val_acc: 0.8378\n",
      "Epoch 8/60\n",
      "110288/110288 [==============================] - 12s 110us/step - loss: 0.5221 - acc: 0.8438 - val_loss: nan - val_acc: 0.8513\n",
      "Epoch 9/60\n",
      "110288/110288 [==============================] - 12s 111us/step - loss: 0.4743 - acc: 0.8560 - val_loss: nan - val_acc: 0.8631\n",
      "Epoch 10/60\n",
      "110288/110288 [==============================] - 12s 111us/step - loss: 0.4330 - acc: 0.8678 - val_loss: nan - val_acc: 0.8723\n",
      "Epoch 11/60\n",
      "110288/110288 [==============================] - 12s 109us/step - loss: 0.3991 - acc: 0.8779 - val_loss: nan - val_acc: 0.8815\n",
      "Epoch 12/60\n",
      "110288/110288 [==============================] - 12s 111us/step - loss: 0.3715 - acc: 0.8865 - val_loss: nan - val_acc: 0.8910\n",
      "Epoch 13/60\n",
      "110288/110288 [==============================] - 12s 111us/step - loss: 0.3474 - acc: 0.8939 - val_loss: nan - val_acc: 0.8956\n",
      "Epoch 14/60\n",
      "110288/110288 [==============================] - 12s 110us/step - loss: 0.3261 - acc: 0.9004 - val_loss: nan - val_acc: 0.9004\n",
      "Epoch 15/60\n",
      "110288/110288 [==============================] - 12s 110us/step - loss: 0.3086 - acc: 0.9058 - val_loss: nan - val_acc: 0.9071\n",
      "Epoch 16/60\n",
      "110288/110288 [==============================] - 12s 111us/step - loss: 0.2935 - acc: 0.9103 - val_loss: nan - val_acc: 0.9100\n",
      "Epoch 17/60\n",
      "110288/110288 [==============================] - 12s 111us/step - loss: 0.2801 - acc: 0.9144 - val_loss: nan - val_acc: 0.9146\n",
      "Epoch 18/60\n",
      "110288/110288 [==============================] - 12s 110us/step - loss: 0.2684 - acc: 0.9178 - val_loss: nan - val_acc: 0.9182\n",
      "Epoch 19/60\n",
      "110288/110288 [==============================] - 12s 111us/step - loss: 0.2573 - acc: 0.9215 - val_loss: nan - val_acc: 0.9197\n",
      "Epoch 20/60\n",
      "110288/110288 [==============================] - 12s 111us/step - loss: 0.2470 - acc: 0.9245 - val_loss: nan - val_acc: 0.9244\n",
      "Epoch 21/60\n",
      "110288/110288 [==============================] - 12s 111us/step - loss: 0.2372 - acc: 0.9276 - val_loss: nan - val_acc: 0.9276\n",
      "Epoch 22/60\n",
      "110288/110288 [==============================] - 12s 111us/step - loss: 0.2296 - acc: 0.9301 - val_loss: nan - val_acc: 0.9304\n",
      "Epoch 23/60\n",
      "110288/110288 [==============================] - 12s 111us/step - loss: 0.2208 - acc: 0.9329 - val_loss: nan - val_acc: 0.9321\n",
      "Epoch 24/60\n",
      "110288/110288 [==============================] - 12s 109us/step - loss: 0.2133 - acc: 0.9352 - val_loss: nan - val_acc: 0.9332\n",
      "Epoch 25/60\n",
      "110288/110288 [==============================] - 12s 108us/step - loss: 0.2071 - acc: 0.9374 - val_loss: nan - val_acc: 0.9360\n",
      "Epoch 26/60\n",
      "110288/110288 [==============================] - 12s 110us/step - loss: 0.2003 - acc: 0.9394 - val_loss: nan - val_acc: 0.9365\n",
      "Epoch 27/60\n",
      "110288/110288 [==============================] - 12s 111us/step - loss: 0.1948 - acc: 0.9413 - val_loss: nan - val_acc: 0.9390\n",
      "Epoch 28/60\n",
      "110288/110288 [==============================] - 12s 111us/step - loss: 0.1884 - acc: 0.9434 - val_loss: nan - val_acc: 0.9411\n",
      "Epoch 29/60\n",
      "110288/110288 [==============================] - 12s 110us/step - loss: 0.1843 - acc: 0.9445 - val_loss: nan - val_acc: 0.9426\n",
      "Epoch 30/60\n",
      "110288/110288 [==============================] - 12s 111us/step - loss: 0.1780 - acc: 0.9466 - val_loss: nan - val_acc: 0.9439\n",
      "Epoch 31/60\n",
      "110288/110288 [==============================] - 12s 111us/step - loss: 0.1735 - acc: 0.9480 - val_loss: nan - val_acc: 0.9465\n",
      "Epoch 32/60\n",
      "110288/110288 [==============================] - 12s 111us/step - loss: 0.1691 - acc: 0.9493 - val_loss: nan - val_acc: 0.9471\n",
      "Epoch 33/60\n",
      "110288/110288 [==============================] - 12s 111us/step - loss: 0.1643 - acc: 0.9509 - val_loss: nan - val_acc: 0.9479\n",
      "Epoch 34/60\n",
      "110288/110288 [==============================] - 12s 110us/step - loss: 0.1609 - acc: 0.9519 - val_loss: nan - val_acc: 0.9473\n",
      "Epoch 35/60\n",
      "110288/110288 [==============================] - 12s 111us/step - loss: 0.1566 - acc: 0.9533 - val_loss: nan - val_acc: 0.9504\n",
      "Epoch 36/60\n",
      "110288/110288 [==============================] - 12s 111us/step - loss: 0.1524 - acc: 0.9545 - val_loss: nan - val_acc: 0.9508\n",
      "Epoch 37/60\n",
      "110288/110288 [==============================] - 12s 110us/step - loss: 0.1487 - acc: 0.9557 - val_loss: nan - val_acc: 0.9528\n",
      "Epoch 38/60\n",
      "110288/110288 [==============================] - 12s 111us/step - loss: 0.1458 - acc: 0.9566 - val_loss: nan - val_acc: 0.9544\n",
      "Epoch 39/60\n",
      "110288/110288 [==============================] - 12s 111us/step - loss: 0.1427 - acc: 0.9575 - val_loss: nan - val_acc: 0.9547\n",
      "Epoch 40/60\n",
      "110288/110288 [==============================] - 12s 110us/step - loss: 0.1397 - acc: 0.9585 - val_loss: nan - val_acc: 0.9562\n",
      "Epoch 41/60\n",
      "110288/110288 [==============================] - 12s 110us/step - loss: 0.1364 - acc: 0.9596 - val_loss: nan - val_acc: 0.9565\n",
      "Epoch 42/60\n",
      "110288/110288 [==============================] - 12s 111us/step - loss: 0.1346 - acc: 0.9600 - val_loss: nan - val_acc: 0.9546\n",
      "Epoch 43/60\n",
      "110288/110288 [==============================] - 12s 111us/step - loss: 0.1322 - acc: 0.9609 - val_loss: nan - val_acc: 0.9580\n",
      "Epoch 44/60\n",
      "110288/110288 [==============================] - 12s 110us/step - loss: 0.1292 - acc: 0.9618 - val_loss: nan - val_acc: 0.9586\n",
      "Epoch 45/60\n",
      "110288/110288 [==============================] - 12s 111us/step - loss: 0.1263 - acc: 0.9628 - val_loss: nan - val_acc: 0.9593\n",
      "Epoch 46/60\n",
      "110288/110288 [==============================] - 12s 111us/step - loss: 0.1241 - acc: 0.9633 - val_loss: nan - val_acc: 0.9599\n",
      "Epoch 47/60\n",
      "110288/110288 [==============================] - 12s 110us/step - loss: 0.1226 - acc: 0.9638 - val_loss: nan - val_acc: 0.9611\n",
      "Epoch 48/60\n",
      "110288/110288 [==============================] - 12s 111us/step - loss: 0.1198 - acc: 0.9647 - val_loss: nan - val_acc: 0.9613\n",
      "Epoch 49/60\n",
      "110288/110288 [==============================] - 12s 111us/step - loss: 0.1179 - acc: 0.9651 - val_loss: nan - val_acc: 0.9615\n",
      "Epoch 50/60\n",
      "110288/110288 [==============================] - 12s 108us/step - loss: 0.1154 - acc: 0.9660 - val_loss: nan - val_acc: 0.9624\n",
      "Epoch 51/60\n",
      "110288/110288 [==============================] - 12s 110us/step - loss: 0.1138 - acc: 0.9664 - val_loss: nan - val_acc: 0.9633\n",
      "Epoch 52/60\n",
      "110288/110288 [==============================] - 12s 111us/step - loss: 0.1121 - acc: 0.9670 - val_loss: nan - val_acc: 0.9640\n",
      "Epoch 53/60\n",
      "110288/110288 [==============================] - 12s 110us/step - loss: 0.1100 - acc: 0.9676 - val_loss: nan - val_acc: 0.9643\n",
      "Epoch 54/60\n",
      "110288/110288 [==============================] - 12s 110us/step - loss: 0.1084 - acc: 0.9681 - val_loss: nan - val_acc: 0.9647\n",
      "Epoch 55/60\n",
      "110288/110288 [==============================] - 12s 111us/step - loss: 0.1059 - acc: 0.9688 - val_loss: nan - val_acc: 0.9653\n",
      "Epoch 56/60\n",
      "110288/110288 [==============================] - 12s 112us/step - loss: 0.1047 - acc: 0.9693 - val_loss: nan - val_acc: 0.9659\n",
      "Epoch 57/60\n",
      "110288/110288 [==============================] - 12s 110us/step - loss: 0.1025 - acc: 0.9700 - val_loss: nan - val_acc: 0.9658\n",
      "Epoch 58/60\n",
      "110288/110288 [==============================] - 12s 111us/step - loss: 0.1017 - acc: 0.9701 - val_loss: nan - val_acc: 0.9656\n",
      "Epoch 59/60\n",
      "110288/110288 [==============================] - 12s 111us/step - loss: 0.1012 - acc: 0.9701 - val_loss: nan - val_acc: 0.9668\n",
      "Epoch 60/60\n",
      "110288/110288 [==============================] - 12s 110us/step - loss: 0.0980 - acc: 0.9713 - val_loss: nan - val_acc: 0.9682\n",
      "new jersey est parfois calme au l' automne et il est neigeux en en <PAD> <PAD> <PAD> <PAD> <PAD> <PAD> <PAD>\n",
      "Final Model Loaded\n"
     ]
    }
   ],
   "source": [
    "def model_final(input_shape, output_sequence_length, english_vocab_size, french_vocab_size):\n",
    "    \"\"\"\n",
    "    Build and train a model that incorporates embedding, encoder-decoder, and bidirectional RNN on x and y\n",
    "    :param input_shape: Tuple of input shape\n",
    "    :param output_sequence_length: Length of output sequence\n",
    "    :param english_vocab_size: Number of unique English words in the dataset\n",
    "    :param french_vocab_size: Number of unique French words in the dataset\n",
    "    :return: Keras model built, but not trained\n",
    "    \"\"\"\n",
    "    learning_rate = 1e-3\n",
    "    \n",
    "    inputs = Input(shape=input_shape[1:])\n",
    "    embeds = Embedding(output_dim=51, input_dim=english_vocab_size, input_length=input_shape[1])(inputs)\n",
    "    \n",
    "    #embeds = Embedding(output_dim=51, input_dim=english_vocab_size, input_length=input_shape[1])(inputs)\n",
    "    rnn = Bidirectional(GRU(64, return_sequences=True))(embeds)\n",
    "    x = Dense(128, activation='relu')(rnn)\n",
    "    logits = TimeDistributed(Dense(french_vocab_size, activation='softmax'))(x)\n",
    "    model = Model(inputs=inputs, outputs=logits)\n",
    "    model.compile(loss=sparse_categorical_crossentropy,\n",
    "                  optimizer=Adam(learning_rate),\n",
    "                  metrics=['accuracy'])\n",
    "    return model\n",
    "\n",
    "#tests.test_model_final(model_final)\n",
    "\n",
    "# no need to reshape, we need to send it as a two dimensional array\n",
    "tmp_x = pad(preproc_english_sentences, max_french_sequence_length)\n",
    "print(tmp_x.shape)\n",
    "\n",
    "# Train the neural network\n",
    "embed_rnn_model = model_final(\n",
    "    tmp_x.shape,\n",
    "    max_french_sequence_length,\n",
    "    english_vocab_size,\n",
    "    french_vocab_size)\n",
    "embed_rnn_model.fit(tmp_x, preproc_french_sentences, batch_size=1024, epochs=60, validation_split=0.2)\n",
    "\n",
    "# Print prediction(s)\n",
    "print(logits_to_text(embed_rnn_model.predict(tmp_x[:1])[0], french_tokenizer))\n",
    "print('Final Model Loaded')\n",
    "# TODO: Train the final model"
   ]
  },
  {
   "cell_type": "markdown",
   "metadata": {},
   "source": [
    "## Prediction"
   ]
  },
  {
   "cell_type": "code",
   "execution_count": 53,
   "metadata": {},
   "outputs": [
    {
     "name": "stdout",
     "output_type": "stream",
     "text": [
      "Sample 1:\n",
      "il a vu un vieux camion jaune <PAD> <PAD> <PAD> <PAD> <PAD> <PAD> <PAD> <PAD> <PAD> <PAD> <PAD> <PAD> <PAD> <PAD>\n",
      "Il a vu un vieux camion jaune\n",
      "Sample 2:\n",
      "new jersey est parfois calme au l' automne et il est neigeux en en <PAD> <PAD> <PAD> <PAD> <PAD> <PAD> <PAD>\n",
      "new jersey est parfois calme pendant l' automne et il est neigeux en avril <PAD> <PAD> <PAD> <PAD> <PAD> <PAD> <PAD>\n"
     ]
    }
   ],
   "source": [
    "def final_predictions(x, y, x_tk, y_tk):\n",
    "    \"\"\"\n",
    "    Gets predictions using the final model\n",
    "    :param x: Preprocessed English data\n",
    "    :param y: Preprocessed French data\n",
    "    :param x_tk: English tokenizer\n",
    "    :param y_tk: French tokenizer\n",
    "    \"\"\"\n",
    "    # TODO: Train neural network using model_final\n",
    "    model = embed_rnn_model\n",
    "\n",
    "    \n",
    "    ## DON'T EDIT ANYTHING BELOW THIS LINE\n",
    "    y_id_to_word = {value: key for key, value in y_tk.word_index.items()}\n",
    "    y_id_to_word[0] = '<PAD>'\n",
    "\n",
    "    sentence = 'he saw a old yellow truck'\n",
    "    sentence = [english_tokenizer.word_index[word] for word in sentence.split()]\n",
    "    sentence = pad_sequences([sentence], maxlen=preproc_french_sentences.shape[1], padding='post')\n",
    "    sentences = np.array([list(sentence[0]), list(pad_sequences(x, maxlen=max_french_sequence_length, padding='post')[0])])\n",
    "    predictions = model.predict(sentences, len(sentences))\n",
    "\n",
    "    print('Sample 1:')\n",
    "    print(' '.join([y_id_to_word[np.argmax(x)] for x in predictions[0]]))\n",
    "    print('Il a vu un vieux camion jaune')\n",
    "    print('Sample 2:')\n",
    "    print(' '.join([y_id_to_word[np.argmax(x)] for x in predictions[1]]))\n",
    "    print(' '.join([y_id_to_word[np.max(x)] for x in y[0]]))\n",
    "\n",
    "\n",
    "final_predictions(preproc_english_sentences, preproc_french_sentences, english_tokenizer, french_tokenizer)"
   ]
  },
  {
   "cell_type": "markdown",
   "metadata": {},
   "source": [
    "## Note\n",
    "\n",
    "This project focuses on learning various network architectures for machine translation, but we don't evaluate the models according to best practices by splitting the data into separate test & training sets -- so the model accuracy is overstated. [`sklearn.model_selection.train_test_split()`](http://scikit-learn.org/stable/modules/generated/sklearn.model_selection.train_test_split.html) function can be used to create separate training & test datasets, then retrain each of the models using only the training set and evaluate the prediction accuracy using the hold out test set."
   ]
  }
 ],
 "metadata": {
  "kernelspec": {
   "display_name": "Python 3",
   "language": "python",
   "name": "python3"
  },
  "language_info": {
   "codemirror_mode": {
    "name": "ipython",
    "version": 3
   },
   "file_extension": ".py",
   "mimetype": "text/x-python",
   "name": "python",
   "nbconvert_exporter": "python",
   "pygments_lexer": "ipython3",
   "version": "3.6.5"
  }
 },
 "nbformat": 4,
 "nbformat_minor": 1
}
